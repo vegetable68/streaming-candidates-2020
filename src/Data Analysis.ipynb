{
 "cells": [
  {
   "cell_type": "code",
   "execution_count": 2,
   "metadata": {
    "collapsed": true
   },
   "outputs": [],
   "source": [
    "import json\n",
    "from collections import defaultdict\n",
    "import pandas as pd\n",
    "import sys\n",
    "import pymongo"
   ]
  },
  {
   "cell_type": "code",
   "execution_count": 3,
   "metadata": {
    "collapsed": true
   },
   "outputs": [],
   "source": [
    "USERIDS = \"../data/userids\"\n",
    "DATABASE = \"sampleStatistics\"\n",
    "HANDLES = \"../data/handles\""
   ]
  },
  {
   "cell_type": "code",
   "execution_count": 4,
   "metadata": {
    "collapsed": true
   },
   "outputs": [],
   "source": [
    "myclient = pymongo.MongoClient(\"mongodb://localhost:27017/\")\n",
    "database = myclient[DATABASE]"
   ]
  },
  {
   "cell_type": "code",
   "execution_count": 5,
   "metadata": {
    "collapsed": true
   },
   "outputs": [],
   "source": [
    "with open(USERIDS, \"r\") as r:\n",
    "  userIDs = json.load(r)\n",
    "userHandles = []\n",
    "with open(HANDLES, \"r\") as r:\n",
    "  for line in r:\n",
    "    userHandles.append(line[:-1])"
   ]
  },
  {
   "cell_type": "code",
   "execution_count": 6,
   "metadata": {},
   "outputs": [
    {
     "name": "stderr",
     "output_type": "stream",
     "text": [
      "/home/yiqing/anaconda3/lib/python3.6/site-packages/ipykernel_launcher.py:1: DeprecationWarning: count is deprecated. Use estimated_document_count or count_documents instead. Please note that $where must be replaced by $expr, $near must be replaced by $geoWithin with $center, and $nearSphere must be replaced by $geoWithin with $centerSphere\n",
      "  \"\"\"Entry point for launching an IPython kernel.\n"
     ]
    },
    {
     "data": {
      "text/plain": [
       "223564"
      ]
     },
     "execution_count": 6,
     "metadata": {},
     "output_type": "execute_result"
    }
   ],
   "source": [
    "database.users.count()"
   ]
  },
  {
   "cell_type": "code",
   "execution_count": 7,
   "metadata": {},
   "outputs": [
    {
     "name": "stderr",
     "output_type": "stream",
     "text": [
      "/home/yiqing/anaconda3/lib/python3.6/site-packages/ipykernel_launcher.py:6: DeprecationWarning: count is deprecated. Use Collection.count_documents instead.\n",
      "  \n",
      "/home/yiqing/anaconda3/lib/python3.6/site-packages/ipykernel_launcher.py:7: DeprecationWarning: count is deprecated. Use Collection.count_documents instead.\n",
      "  import sys\n",
      "/home/yiqing/anaconda3/lib/python3.6/site-packages/ipykernel_launcher.py:8: DeprecationWarning: count is deprecated. Use Collection.count_documents instead.\n",
      "  \n",
      "/home/yiqing/anaconda3/lib/python3.6/site-packages/ipykernel_launcher.py:9: DeprecationWarning: count is deprecated. Use Collection.count_documents instead.\n",
      "  if __name__ == '__main__':\n"
     ]
    }
   ],
   "source": [
    "userStatus = {}\n",
    "for ind, user in enumerate(userIDs):\n",
    "    user = int(user)\n",
    "    userStatus[user] = defaultdict(int)\n",
    "    userStatus[user]['name'] = userHandles[ind]\n",
    "    userStatus[user]['posted'] = database.tweets.find({\"user\": user}).count()\n",
    "    userStatus[user]['retweeted'] = database.retweets.find({\"retweetedFrom_user\": user}).count()\n",
    "    userStatus[user]['original_mentions'] = database.tweets.find({\"$and\": [{\"user\": {\"$in\": [user]}}, {\"replyTo_user\": {\"$ne\": user}}]}).count()\n",
    "    userStatus[user]['replied'] = database.tweets.find({\"replyTo_user\": user}).count()"
   ]
  },
  {
   "cell_type": "code",
   "execution_count": 8,
   "metadata": {
    "collapsed": true
   },
   "outputs": [],
   "source": [
    "userStatus = pd.DataFrame(userStatus)"
   ]
  },
  {
   "cell_type": "code",
   "execution_count": 22,
   "metadata": {},
   "outputs": [
    {
     "data": {
      "text/plain": [
       "<bound method DataFrame.to_csv of                   90651198           232268199          465046121           \\\n",
       "name                   GregAbbott_TX         NYGovCuomo       AndrewGillum   \n",
       "original_mentions                 56                 50                107   \n",
       "posted                            56                 52                107   \n",
       "replied                         1499               2908              27452   \n",
       "retweeted                       4732               1291             183012   \n",
       "\n",
       "                  607721548          1058807868         2513761008          \\\n",
       "name                      LupeValdez        RepDeSantis        andrewcuomo   \n",
       "original_mentions                 32                 12                 55   \n",
       "posted                            37                 15                 55   \n",
       "replied                          149               1570               1082   \n",
       "retweeted                       1837                139                863   \n",
       "\n",
       "                  942878337806032901  \n",
       "name                    CynthiaNixon  \n",
       "original_mentions                123  \n",
       "posted                           130  \n",
       "replied                        12359  \n",
       "retweeted                      12822  >"
      ]
     },
     "execution_count": 22,
     "metadata": {},
     "output_type": "execute_result"
    }
   ],
   "source": [
    "userStatus.to_csv"
   ]
  },
  {
   "cell_type": "code",
   "execution_count": 20,
   "metadata": {
    "collapsed": true
   },
   "outputs": [],
   "source": [
    "records = database.tweets.find({\"replyTo_user\": 607721548})"
   ]
  },
  {
   "cell_type": "code",
   "execution_count": 21,
   "metadata": {},
   "outputs": [
    {
     "name": "stdout",
     "output_type": "stream",
     "text": [
      "@LupeValdez @supswamp @GregAbbott_TX OK, can someone explain to me thus...\n",
      "IF all the Hispanic's, African Americans, Chinese, Japanese, Indian, 1st nation Americans are deported as NOT being White Americans...\n",
      "(a) where will they deported too &amp; (b) who will do their jobs ?\n",
      "I can wait tick tock ⏲️⏲️tick tock...\n",
      "@LupeValdez What is voter suppression? Republican strategy explained. Rolling Stone. The Trump Administration Is Revoking Passports of U.S. Citizens of Hispanic Descent. Fortune. #VoterSuppression #WhitesOnly https://t.co/z2hyRL0STB\n",
      "@LupeValdez @GregAbbott_TX Maybe you should ask Greg Abbott’s wife.\n",
      "@LupeValdez @GregAbbott_TX At Paxton’s request, he pushed through anti-Hispanic laws this last session making it possible to get pulled over for things like driving while brown.  Abbott has no interest in helping his non-white constituents.\n",
      "@LupeValdez @GregAbbott_TX He doesn't want to \"poke the bear\".\n",
      "@LupeValdez @BetoORourke @Lizzie4Congress @CollierForTexas @NelsonforTexas @SylvesterTurner I have noticed in the last year more robberies and gun violence in Houston since Trump has been in the  White House. It’s like some people don’t even care anymore.\n",
      "@LupeValdez @BetoORourke @Lizzie4Congress @CollierForTexas @NelsonforTexas @PPTXVotes\n",
      "@LupeValdez @GregAbbott_TX Yeah. He’s not. Texas needs you!!\n",
      "@LupeValdez @GregAbbott_TX Abbott and his cronies care as little about brown people as trump does...\n",
      "@LupeValdez @GregAbbott_TX Sadly @GregAbbott_TX tends to forget that his wife's grandparents were direct immigrants from Mexico.\n",
      "@LupeValdez @GregAbbott_TX This is incredible and it must stop. What can possibly be gained by this cruel insanity?\n",
      "@LupeValdez @RogersforHD57 @GregAbbott_TX Abbott is not going to do anything. Remember trump gave him $35,000 to not pursue the trial for trump university fraud. Abbott is about the money - not the people!\n",
      "@LupeValdez @oufenix @GregAbbott_TX George Orwell '1984': \n",
      "\n",
      "\"The party told you to reject the evidence of your eyes and ears. It was their final, most essential command.\"\n",
      "\n",
      "Trump 2018: \n",
      "\n",
      "\"What you're seeing and what you're reading is not what's happening\"\n",
      "\n",
      "How the hell can't you not be scared to death right now?\n",
      "@LupeValdez @oufenix @GregAbbott_TX Vote! Register! Vote Blue Latinos\n",
      "@LupeValdez @GregAbbott_TX I'm just over here wondering if either of y'all are gonna have the guts to debate @Mark4Gov\n",
      "@LupeValdez sorry my sister/friend we support you for Texas Governor. Yes you can and yes you will win in November and be the next Governor of the State of Texas.\n",
      "@LupeValdez @GregAbbott_TX The truth about the Republican stranglehold on TX politics from one of Abbott’s own ultra-rich donors himself:\n",
      "https://t.co/UAnjUy48aF #VamosValdez\n",
      "@LupeValdez Meanwhile, Abbott and his ultra-rich donors keep the TX gov under their thumb— https://t.co/UAnjUy48aF All-in for @LupeValdez #VamosValdez\n",
      "@LupeValdez @GregAbbott_TX How is this not all over the news?!?!?!\n",
      "@LupeValdez @BrentSullivan @GregAbbott_TX https://t.co/irHfbQubYI\n",
      "@LupeValdez @GregAbbott_TX It's a coincidence that they are doing it now, I'd say because an election is coming up! And...These Americans won't be able to vote, so it's convenient for them to do NOTHING. #ShameOnYou @tedcruz @GregAbbott_TX  Do something &amp; FIX THE PROBLEM for your Texas constituents!\n",
      "@LupeValdez @GregAbbott_TX Abbott’s whole administration is basically a criminal enterprise. If we had a Mueller at the state level, they would all go down.\n",
      "@LupeValdez @GregAbbott_TX Sadly, @GregAbbott_TX does not care. He has one priority here in TX— keeping his wealthy donors happy: https://t.co/UAnjUy48aF #VamosValdez\n",
      "@LupeValdez this black democrat is voting republican\n",
      "@LupeValdez In 2008, Obama said Hillary will say or do anything to win.   In 2016, Obama endorsed her for president.\n",
      "@LupeValdez   We NEED to hear MORE from you!!!!!\n",
      "It’s no wonder that #Texas is falling behind on serving the everyday Texan and safeguarding the future of the state when everything from our Higher Education boards to @TPWDparks Commission are staffed by special interests lining #GOP pockets.\n",
      "These same wealthy donors work to dismantle @TX_Ethics and disenfranchise Texans everyday by influencing those at the very top — our own @GregAbbott_TX, @KenPaxtonTX, and so many more failing in their service to hardworking Texans across the state.\n",
      "Vote for me. Vote for @NelsonforTexas, @BetoORourke, @CollierforTexas, @KimOlson4TxAG, @RomanMcAllen, @MrMiguelSuazo and others looking to fight for YOU.\n",
      "\n",
      "With a grassroots base, the only donors we answer to are the people.\n",
      "@LupeValdez @NelsonforTexas @BetoORourke @CollierForTexas @KimOlson4TxAg @RomanMcAllen @MrMiguelSuazo https://t.co/7HDnRGmYt5\n",
      "@LupeValdez when u get elected, pls implement anti-corruptions laws 4 all bodies of govt in TX. Authority is 2 SERVE not profit.\n",
      "@LupeValdez @NelsonforTexas @BetoORourke @CollierForTexas @KimOlson4TxAg @RomanMcAllen @MrMiguelSuazo Yes! Every single one! Well, maybe not @BetoORourke, he’s kinda way too cool 😎! \n",
      "\n",
      "*wink wink*\n",
      "@LupeValdez @NelsonforTexas @BetoORourke @CollierForTexas @KimOlson4TxAg @RomanMcAllen @MrMiguelSuazo @JosephKopser @Kopser4Congress\n",
      "@LupeValdez @GregAbbott_TX Never, @GovAbbott is a puppet of trump.\n",
      "@LupeValdez @GregAbbott_TX @TTUSystem Hey Texans while your checking out @LupeValdez don’t forget we have choices not just unopposed incumbents in more races. Check @BetoORourke @NelsonforTexas @CollierForTexas Get informed then go to https://t.co/fCSxpnbppL to verify/register to vote. Don’t forget your local races!\n",
      "@LupeValdez @NelsonforTexas @BetoORourke @CollierForTexas @KimOlson4TxAg @RomanMcAllen @MrMiguelSuazo You have my vote.  We need ethical, new blood in that cesspool\n",
      "@LupeValdez @GloCrne @GregAbbott_TX @TTUSystem It’s happening all across Texas. Calhoun County Port Authority hiring Blake Farenthold was an underhanded deal. One board member owns a dredging company that easily landed government contracts! #RottenGop #TheirRiggingTheSystem #SwampyPeopleAmongUs\n",
      "@LupeValdez @GregAbbott_TX @georgepbush Plus. This Harvey tax break short changes survivors\n",
      "@LupeValdez @GregAbbott_TX @georgepbush According to Greg Abbott he was as successful as Donald J Trump was in Puerto Rico. \n",
      "\n",
      "We ALL know that Donald J Trump is a LIAR so my gut tells me that Greg Abbott as a great a liar as Trump.\n",
      "@LupeValdez And our countries criminals, rapists, murders, drug dealers.......\n",
      "@LupeValdez @GregAbbott_TX @TTUSystem @AngelaPaxtonTX\n",
      "@LupeValdez I hope you lose the election\n",
      "@LupeValdez Any DREAMers doing time in our prisons? Any?\n",
      "@LupeValdez This is Bullshit. Need to round all these dreamers (criminals) up and deport ASAP. Texas is not their home. You are trying to run for governor of Texas. Yet already you are not representing Texans. Get Lost!!\n",
      "@LupeValdez Good luck ma’am !! The video is great &amp; thank you for all your service - I’m in Virginia so I’ll just send Luck and retweet you around as much as I can https://t.co/WQLnWpGM3V\n",
      "@LupeValdez Lupe you and your campaign manager need to step up your strategy to get you elected. If this person can't help you then hire someone who can STAT! Plz\n",
      "@LupeValdez @GregAbbott_TX hard to believe in less than 2 yeard the depths America has slumped to thanks to incompetent Trump,We had a poll in Manchester England on his approval,6% like him,35% dislike him &amp; over 50% absolutely fekin hate the imbecilic racist arsehole lol\n",
      "@LupeValdez @HappyLambSpins @GregAbbott_TX @TTUSystem It’s not just Texas.. it’s the GOP plan for all states.. for the gop America is for sale ... just give them money and votes and you can have what you want...\n",
      "@LupeValdez They are illegal\n",
      "@LupeValdez @ToniinTexas @GregAbbott_TX Not Abbot. His real handicap is that he has no morals.\n",
      "@LupeValdez @RepLloydDoggett Looks pretty boring.\n",
      "@LupeValdez @RepLloydDoggett I am rooting hard for you, Lupe!   And you have my vote!\n",
      "@LupeValdez @RepLloydDoggett Texas is a blue State... They just don't know it yet!\n",
      "@LupeValdez \n",
      "@GovAbbott \n",
      "\n",
      "why is Texas so low?\n",
      "@LupeValdez Why don't I ever see women working on roofing crews? Has that glass ceiling been broke?\n",
      "@LupeValdez 💙👊🏽✊🏽\n",
      "@LupeValdez You will lose\n",
      "@LupeValdez You will lose\n",
      "https://t.co/rtT1T9WN2W\n",
      "@LupeValdez I can’t wait to meet you some day but I look forward to calling you Governor more than anything!\n",
      "@LupeValdez\n",
      "@LupeValdez What a great pic! 🇨🇱\n",
      "@LupeValdez @SheripetersonS I like to remember her saying \"He can't help it, he was born with a silver foot in his mouth.\"\n",
      "@LupeValdez Man I miss Ann....\n",
      "@LupeValdez What an amazing woman! She was a “no shit” kinda gal!!\n",
      "@LupeValdez Loved having Ann Richards in charge when I was in college.\n",
      "@LupeValdez Remember me \n",
      "Governor Ann Richards D TX \n",
      "Make Texas Blue Again https://t.co/sIeKX1QCA8\n",
      "@LupeValdez What the world needs now   \n",
      "the spirit of Gov. Ann Richards D TX https://t.co/KPvdKh4PaZ\n",
      "@LupeValdez Then they should have applied for citizenship. If they've been here even just a year they could have started it.\n",
      "@LupeValdez You will lose\n",
      "@LupeValdez First time i did whiskey shots was with anne richards.\n",
      "@LupeValdez When I think of Gov. Ann Richards I think \"Democrat\". I miss her.\n",
      "@LupeValdez Wonderful picture! #LupeValdez\n",
      "@LupeValdez Lupe, we absolutely love this! They don't really make women like Ann Richards anymore. But if she were around, she would be giving both you &amp; Beto O'Rourke her full support! We were the guys that had \"Another Man For Ann\" bumper stickers on our pickup trucks! LOVE! @BetoORourke\n",
      "@LupeValdez But you don’t campaign. A friend asked me last week “Whose Lupe?”\n",
      "@LupeValdez @TXDemocrat https://t.co/Nh55bHAflm\n",
      "@LupeValdez Texas is a blue State... They just don't know it yet!\n",
      "@LupeValdez @HollandTaylor\n",
      "@LupeValdez From an admiring Oregonian, Happy Birthday Governor Richards! Your Southern Charm and razor sharp wit are sorely missed. Most memorable line ever at a DNC convention, \"Poor George. He can't help it. He was born with a silver foot in his mouth!\" Thanks for the memories.\n",
      "@LupeValdez HAPPY BIRTHDAY GOVERNOR ANN RICHARDS GOD BLESS\n",
      "@LupeValdez The only thing she did that I didn’t agree with was getting Baylor (her alma mater) in to the Big XII\n",
      "@LupeValdez Lupe, take a hike.  We’re not buying the crap your selling.  Want to know about Lupe, go ask her deputies what they think about her and her “open government” and socialistic approach. Girl, that ol’ dog won’t hunt.\n",
      "@LupeValdez @CollierForTexas @EricHolguinTX It's Sunday - shouldn't you be wearing a pretty, colorful dress?\n",
      "@LupeValdez @AFLCIO @SenatorSylvia @TexasAFLCIO @MontseTXAFLCIO @RickTxAFLCIO https://t.co/d9pMHqj7v3\n",
      "@LupeValdez @AFLCIO @SenatorSylvia @TexasAFLCIO @MontseTXAFLCIO @RickTxAFLCIO Only 92 likes\n",
      "@LupeValdez Pretty much so she did.\n",
      "@LupeValdez Queen\n",
      "@LupeValdez Hey Texans while your checking out @LupeValdez don’t forget we have choices not just unopposed incumbents in more races. Check @BetoORourke @NelsonforTexas @CollierForTexas Get informed then go to https://t.co/fCSxpnbppL to verify/register to vote. Don’t forget your local races!\n",
      "@LupeValdez Gov. Richards was such a badass. Miss her!\n",
      "@LupeValdez\n",
      "@LupeValdez\n",
      "@LupeValdez\n",
      "@LupeValdez\n",
      "@LupeValdez @LoriSums Sure do miss this Shero.\n",
      "@LupeValdez @AFLCIO @SenatorSylvia @TexasAFLCIO @MontseTXAFLCIO @RickTxAFLCIO How about a contract for fleet service\n",
      "@LupeValdez She will lose. Vote @GregAbbott_TX\n",
      "@LupeValdez @EricHolguinTX You will lose\n",
      "@LupeValdez Now I'm hungry for tacos @EricHolguinTX\n",
      "https://t.co/FQdhZrRkWa\n",
      "@LupeValdez Haha!   You’re an embarrassment Lupe!\n",
      "@LupeValdez @StopThisChaos \"George Bush can't help it, he was born with a silver foot in his mouth\" Ann (The yellow rose) Richards\n",
      "@LupeValdez https://t.co/hr6m1V3KWJ\n",
      "@LupeValdez https://t.co/HfJZ09caGI\n",
      "@LupeValdez https://t.co/LRGbvKHVmi\n",
      "@LupeValdez https://t.co/Lm00ScWEpn\n",
      "@LupeValdez https://t.co/iPqLmBIfPk\n",
      "@LupeValdez https://t.co/935n9WJCEQ\n",
      "@LupeValdez https://t.co/HatlK2Liyg\n",
      "@LupeValdez https://t.co/2SYqyYLSXx\n",
      "@LupeValdez https://t.co/4xO4Yk2xUq\n",
      "@LupeValdez https://t.co/Er4S79qGen\n",
      "@LupeValdez https://t.co/ANsOOldZbU\n",
      "@LupeValdez https://t.co/mGPbeIvseM\n",
      "@LupeValdez https://t.co/hyWCXNun3k\n",
      "@LupeValdez https://t.co/EFB2cAh1W0\n",
      "@LupeValdez https://t.co/R8VfbgwJGQ\n",
      "@LupeValdez @elva_morris She and I share a birthday!!! I adored her\n",
      "@LupeValdez @GregAbbott_TX This is fake news. Fear mongering to collect more votes.\n",
      "@LupeValdez Hell yeah Big Red!\n",
      "Hell yeah Lupe!\n",
      "@LupeValdez @GregAbbott_TX @TTUSystem Liar !  Lupe you're spreading lies to get votes.\n",
      "@LupeValdez You will lose\n",
      "@LupeValdez You will lose\n",
      "@LupeValdez Matt Governor Richards at one of my shows\n",
      " A True TEXAN!!\n",
      "Texas Deserves\n",
      "        Beto\n",
      "  Vote Change\n",
      " Vote O'Rourke\n",
      "@LupeValdez The absolute best governor in my lifetime. Miss her tenacity and that easy charisma. She made me believe that party affiliation was one thing - governance another. We need more like her.\n",
      "@LupeValdez : Hello Texas Democratic Governor Candidate. As an Independent Voter, I want to know why no one in Texas has heard of your candidacy and know nothing about you or your platform. How can you expect to win if no one knows about you one way or the other. #WhyVoteForYou?\n",
      "@LupeValdez Your hard work will gain momentum and pay off. Keep interacting with the people.\n",
      "@LupeValdez @EricHolguinTX @NuecesDemocrats @barbara4nueces Texas is a blue State... They just don't know it yet!\n",
      "@LupeValdez @EricHolguinTX @NuecesDemocrats @barbara4nueces I wld have gone to help out or donate again. Didn't know y'all were in town😒\n",
      "@LupeValdez @EricHolguinTX @NuecesDemocrats @barbara4nueces Love Corpus Christi. My favorite town! Go Dems!\n",
      "@LupeValdez @EricHolguinTX @NuecesDemocrats @barbara4nueces So friggin cute! Can't wait to vote for both of you in November. (Or October since I vote early)\n",
      "@LupeValdez @EricHolguinTX @NuecesDemocrats @barbara4nueces Sooooo cute!!! #heartmelted ❤️\n",
      "@LupeValdez has to be one of most uneducated people I've ever listened to.  @tedcruz could chew her up and spit her out in seconds, but he'll probably feel sorry for her.\n",
      "@LupeValdez has to be one of most uneducated people I've ever listened to.  @GregAbbott_TX could chew her up and spit her out in seconds, but he'll probably feel sorry for her.\n",
      "@LupeValdez @GregAbbott_TX @TTUSystem IS THIS ALL ABOUT REVENGE ON TRUMP ADMINISTRATION AND https://t.co/0JYocJ90Pi, BECAUSE OF THE CRIES OF DEPORTATION OF ILLEGAL IMMIGRANTS AND BECOME GOVERNOR OF TEXAS TO BRING MORE ILLEGALS ACTIVITIES IN THIS COUNTRY. ... WE KNOW DOMINGO GARCIA IS HELPING RALLY ALSO...\n",
      "@LupeValdez @GregAbbott_TX @TTUSystem ITS ALL ABOUT STOPPING HER PEOPLE WHO ARE CONSTANTLY ENTERING THIS COUNTRY ILLEGAL AND DOMINGO GARCIA AND RUBEN GALLEGO, WHICH HAS ALREADY THREATS THE IMMIGRATION CUSTOM AGENCY EMPLOYEES, BY SAYING \"NOT ONE OF YOU WILL BE SAFE \" HOW HORRIBLE THAT IS..\n",
      "@LupeValdez @BillReyno @TexasAFLCIO On this #LaborDay, remember that no work is insignificant (unless you run your daddy’s business with Secret Service protection, food &amp; unnecessary travel on the taxpayers’ dime).\n",
      "#TheResistance https://t.co/1V5XPNEzge\n",
      "@LupeValdez @dallasdemocrats Let's honor a great labor leader, without whom MLK would not have been possible. Let's have a #BayardRustinStamp\n",
      "https://t.co/YPIfeDcTCQ\n",
      "@LupeValdez Lupe, I knew Ann Richards, and you ma'am, are no Ann Richards.\n",
      "@LupeValdez Why not propose a bond issue to offer low interest, long term loans to Texans to repair their homes? https://t.co/cplO0YUOyE\n",
      "@LupeValdez it’s on the way 🙌🏻🙌🏼🙌🏽🙌🏾🙌🏿🌈\n",
      "@LupeValdez @progressivepush https://t.co/UOSU8bJSzT\n",
      "@LupeValdez, a reminder - I am on the ballot as the governor candidate for @LPTexas. I speak Spanish fluently, call for immediate end to the drug war, am against Trump's wall, and support completely free markets. Why again won't you debate me?\n",
      "\n",
      "#lp18\n",
      "#letmarkdebate\n",
      "@LupeValdez Meanwhile, most Democrats and Texans won’t be voting for you.  If @BetoORourke doesn’t win it’s your fault!\n",
      "“@LupeValdez: We’re ready for the rainbow wave and to bring change all over the country this November! #VamosValdez https://t.co/g5pLsdUY3n”\n",
      "@LupeValdez @TexDem16 Time to invest in education and change the Texas Legislature makeup. #TexasIsDemocrat #VoteBlue\n",
      "@LupeValdez @jenjsmith1 Vote Blue ... get these scumbags out\n",
      "@LupeValdez @robertlash4 Anything but Cthulhuan ambergris Abbot.\n",
      "@LupeValdez Now I understand the rainbow I saw in Plano, TX, yesterday evening! We are with you, Lupe! https://t.co/nW5f9Z8BuN\n",
      "@LupeValdez @FOX4 Oh wow. Glad everyone was ok! That's terrifying! I agree with about 2% of Fox News opinions, but all journalists should be able to feel safe in America. #nottheenemy\n"
     ]
    }
   ],
   "source": [
    "for record in records:\n",
    "    print(record['text'])"
   ]
  },
  {
   "cell_type": "code",
   "execution_count": null,
   "metadata": {
    "collapsed": true
   },
   "outputs": [],
   "source": []
  }
 ],
 "metadata": {
  "kernelspec": {
   "display_name": "Python (twitter)",
   "language": "python",
   "name": "twitter"
  },
  "language_info": {
   "codemirror_mode": {
    "name": "ipython",
    "version": 3
   },
   "file_extension": ".py",
   "mimetype": "text/x-python",
   "name": "python",
   "nbconvert_exporter": "python",
   "pygments_lexer": "ipython3",
   "version": "3.6.3"
  }
 },
 "nbformat": 4,
 "nbformat_minor": 2
}
